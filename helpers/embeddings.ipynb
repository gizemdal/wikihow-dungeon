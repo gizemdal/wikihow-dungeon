{
  "nbformat": 4,
  "nbformat_minor": 0,
  "metadata": {
    "colab": {
      "name": "embeddings.ipynb",
      "provenance": []
    },
    "kernelspec": {
      "name": "python3",
      "display_name": "Python 3"
    }
  },
  "cells": [
    {
      "cell_type": "code",
      "metadata": {
        "id": "1Pehw1-TqKTY",
        "colab_type": "code",
        "colab": {}
      },
      "source": [
        "!pip3 install pymagnitude\n",
        "!wget http://magnitude.plasticity.ai/glove/heavy/glove.6B.300d.magnitude\n",
        "#!wget http://magnitude.plasticity.ai/word2vec/heavy/GoogleNews-vectors-negative300.magnitude\n",
        "\n",
        "from pymagnitude import *\n",
        "vectors = Magnitude(\"glove.6B.300d.magnitude\")"
      ],
      "execution_count": 0,
      "outputs": []
    },
    {
      "cell_type": "code",
      "metadata": {
        "id": "2fD78Q29qP-6",
        "colab_type": "code",
        "colab": {}
      },
      "source": [
        "def construct_sentence_vector(command):\n",
        "  sentence_vector = np.zeros(shape=(vectors.dim,))\n",
        "  cnt = 0\n",
        "  for word in command.split():\n",
        "    word_vector = vectors.query(word)\n",
        "    # TODO - Do something\n",
        "    sentence_vector = sentence_vector + word_vector\n",
        "    cnt+=1\n",
        "  sentence_vector = sentence_vector/cnt\n",
        "  return sentence_vector\n",
        "\n",
        "def find_most_similar_command(user_command, known_commands):\n",
        "  # TODO - Do something\n",
        "  user_sent = construct_sentence_vector(user_command)\n",
        "  known_sent = []\n",
        "  for command in known_commands:\n",
        "    known_sent.append(construct_sentence_vector(command))\n",
        "  #ans = vectors.similarity(user_sent, known_sent) \n",
        "  known_sent = np.array(known_sent)\n",
        "  sim = vectors.similarity(user_sent, known_sent).tolist()\n",
        "  # ind = sim.index(max(sim))\n",
        "  # print(sim)\n",
        "  # return known_commands[ind]\n",
        "  return sim\n"
      ],
      "execution_count": 0,
      "outputs": []
    },
    {
      "cell_type": "markdown",
      "metadata": {
        "id": "MH56fkAO5E5h",
        "colab_type": "text"
      },
      "source": [
        "##Sentence Embeddings"
      ]
    },
    {
      "cell_type": "code",
      "metadata": {
        "id": "d_hdkPQ0Rza3",
        "colab_type": "code",
        "colab": {
          "base_uri": "https://localhost:8080/",
          "height": 124
        },
        "outputId": "e8228811-bd52-4cf3-ccbc-f2fd363a96cc"
      },
      "source": [
        "from google.colab import drive\n",
        "drive.mount('/content/drive')"
      ],
      "execution_count": 96,
      "outputs": [
        {
          "output_type": "stream",
          "text": [
            "Go to this URL in a browser: https://accounts.google.com/o/oauth2/auth?client_id=947318989803-6bn6qk8qdgf4n4g3pfee6491hc0brc4i.apps.googleusercontent.com&redirect_uri=urn%3aietf%3awg%3aoauth%3a2.0%3aoob&response_type=code&scope=email%20https%3a%2f%2fwww.googleapis.com%2fauth%2fdocs.test%20https%3a%2f%2fwww.googleapis.com%2fauth%2fdrive%20https%3a%2f%2fwww.googleapis.com%2fauth%2fdrive.photos.readonly%20https%3a%2f%2fwww.googleapis.com%2fauth%2fpeopleapi.readonly\n",
            "\n",
            "Enter your authorization code:\n",
            "··········\n",
            "Mounted at /content/drive\n"
          ],
          "name": "stdout"
        }
      ]
    },
    {
      "cell_type": "code",
      "metadata": {
        "id": "DN0ex-WSyglS",
        "colab_type": "code",
        "colab": {}
      },
      "source": [
        "from random import randint\n",
        "\n",
        "import numpy as np\n",
        "import torch\n",
        "import string"
      ],
      "execution_count": 0,
      "outputs": []
    },
    {
      "cell_type": "code",
      "metadata": {
        "id": "cwBjrpTO5BCH",
        "colab_type": "code",
        "colab": {
          "base_uri": "https://localhost:8080/",
          "height": 121
        },
        "outputId": "8d829607-fc3a-4c17-bf5b-49ca3eff73a6"
      },
      "source": [
        "import nltk\n",
        "nltk.download('punkt')\n",
        "nltk.download('averaged_perceptron_tagger')"
      ],
      "execution_count": 87,
      "outputs": [
        {
          "output_type": "stream",
          "text": [
            "[nltk_data] Downloading package punkt to /root/nltk_data...\n",
            "[nltk_data]   Package punkt is already up-to-date!\n",
            "[nltk_data] Downloading package averaged_perceptron_tagger to\n",
            "[nltk_data]     /root/nltk_data...\n",
            "[nltk_data]   Unzipping taggers/averaged_perceptron_tagger.zip.\n"
          ],
          "name": "stdout"
        },
        {
          "output_type": "execute_result",
          "data": {
            "text/plain": [
              "True"
            ]
          },
          "metadata": {
            "tags": []
          },
          "execution_count": 87
        }
      ]
    },
    {
      "cell_type": "code",
      "metadata": {
        "id": "pZcApW3t5MN3",
        "colab_type": "code",
        "colab": {
          "base_uri": "https://localhost:8080/",
          "height": 69
        },
        "outputId": "4205eb8c-8e49-494d-9399-34a5ef3517b0"
      },
      "source": [
        "!mkdir encoder\n",
        "!curl -Lo encoder/infersent1.pkl https://dl.fbaipublicfiles.com/infersent/infersent1.pkl"
      ],
      "execution_count": 20,
      "outputs": [
        {
          "output_type": "stream",
          "text": [
            "  % Total    % Received % Xferd  Average Speed   Time    Time     Time  Current\n",
            "                                 Dload  Upload   Total   Spent    Left  Speed\n",
            "100  146M  100  146M    0     0  28.0M      0  0:00:05  0:00:05 --:--:-- 31.4M\n"
          ],
          "name": "stdout"
        }
      ]
    },
    {
      "cell_type": "code",
      "metadata": {
        "id": "7inVEcVp3oY8",
        "colab_type": "code",
        "colab": {
          "base_uri": "https://localhost:8080/",
          "height": 34
        },
        "outputId": "6691ab1e-4d12-4691-84ee-78ceb09fb1e3"
      },
      "source": [
        "from models import InferSent\n",
        "model_version = 1\n",
        "MODEL_PATH = \"encoder/infersent%s.pkl\" % model_version\n",
        "params_model = {'bsize': 64, 'word_emb_dim': 300, 'enc_lstm_dim': 2048,\n",
        "                'pool_type': 'max', 'dpout_model': 0.0, 'version': model_version}\n",
        "model = InferSent(params_model)\n",
        "model.load_state_dict(torch.load(MODEL_PATH))"
      ],
      "execution_count": 22,
      "outputs": [
        {
          "output_type": "execute_result",
          "data": {
            "text/plain": [
              "<All keys matched successfully>"
            ]
          },
          "metadata": {
            "tags": []
          },
          "execution_count": 22
        }
      ]
    },
    {
      "cell_type": "code",
      "metadata": {
        "id": "fIJBB1gk7kXT",
        "colab_type": "code",
        "colab": {}
      },
      "source": [
        "model.set_w2v_path('drive/Shared drives/CIS 700 Project/GloVe/glove.840B.300d.txt')"
      ],
      "execution_count": 0,
      "outputs": []
    },
    {
      "cell_type": "code",
      "metadata": {
        "id": "a0__i5jY6qIj",
        "colab_type": "code",
        "colab": {
          "base_uri": "https://localhost:8080/",
          "height": 34
        },
        "outputId": "521cc9db-66c3-4ee5-9b0a-ac9c6c4d1444"
      },
      "source": [
        "model.build_vocab_k_words(K=100000)"
      ],
      "execution_count": 30,
      "outputs": [
        {
          "output_type": "stream",
          "text": [
            "Vocab size : 100000\n"
          ],
          "name": "stdout"
        }
      ]
    },
    {
      "cell_type": "code",
      "metadata": {
        "id": "hJbclcwU6uW9",
        "colab_type": "code",
        "colab": {
          "base_uri": "https://localhost:8080/",
          "height": 69
        },
        "outputId": "7c795842-e362-444e-cb4b-2a735ca42455"
      },
      "source": [
        "embeddings = model.encode(known_commands, bsize=128, tokenize=False, verbose=True)\n",
        "print('nb sentences encoded : {0}'.format(len(embeddings)))"
      ],
      "execution_count": 38,
      "outputs": [
        {
          "output_type": "stream",
          "text": [
            "Nb words kept : 77/78 (98.7%)\n",
            "Speed : 22.6 sentences/s (cpu mode, bsize=128)\n",
            "nb sentences encoded : 9\n"
          ],
          "name": "stdout"
        }
      ]
    },
    {
      "cell_type": "code",
      "metadata": {
        "id": "Cm7hliVzAKRs",
        "colab_type": "code",
        "colab": {}
      },
      "source": [
        "def cosine(u, v):\n",
        "    return np.dot(u, v) / (np.linalg.norm(u) * np.linalg.norm(v))"
      ],
      "execution_count": 0,
      "outputs": []
    },
    {
      "cell_type": "code",
      "metadata": {
        "id": "qseFdBFW7l7x",
        "colab_type": "code",
        "colab": {}
      },
      "source": [
        "def find_similar_command(user_command, known_commands):\n",
        "\n",
        "  sim1 = find_most_similar_command(user_command, known_commands)\n",
        "  sim = []\n",
        "  for k in known_commands:\n",
        "    sim.append(cosine(model.encode(user_command)[0], model.encode(k)[0]))\n",
        "  # sim = [float(i)/sum(sim) for i in sim]\n",
        "  for i in range(len(sim)):\n",
        "    sim[i] += sim1[i]\n",
        "  idx = sim.index(max(sim))\n",
        "  print(sim)\n",
        "  print(idx)\n",
        "  return known_commands[idx]\n"
      ],
      "execution_count": 0,
      "outputs": []
    },
    {
      "cell_type": "code",
      "metadata": {
        "id": "nvvUi2uw2yJb",
        "colab_type": "code",
        "colab": {}
      },
      "source": [
        "known_commands = ['Wash each orange well', 'Slice the tops off each orange', 'Scoop the flesh out of each orange', 'Draw a basic face design on the outside of one orange', 'Cut out the design with nail scissors', 'Repeat for the other oranges', \"Place a votive candle or tea light candle inside the orange Jack O'Lanterns\", 'Arrange in a display', 'Light the candles']"
      ],
      "execution_count": 0,
      "outputs": []
    },
    {
      "cell_type": "code",
      "metadata": {
        "id": "dv09sRzoCYW9",
        "colab_type": "code",
        "colab": {
          "base_uri": "https://localhost:8080/",
          "height": 173
        },
        "outputId": "01f4e4f2-5a5c-41bc-a871-2cea5b229e00"
      },
      "source": [
        "known_commands"
      ],
      "execution_count": 69,
      "outputs": [
        {
          "output_type": "execute_result",
          "data": {
            "text/plain": [
              "['Wash each orange well',\n",
              " 'Slice the tops off each orange',\n",
              " 'Scoop the flesh out of each orange',\n",
              " 'Draw a basic face design on the outside of one orange',\n",
              " 'Cut out the design with nail scissors',\n",
              " 'Repeat for the other oranges',\n",
              " \"Place a votive candle or tea light candle inside the orange Jack O'Lanterns\",\n",
              " 'Arrange in a display',\n",
              " 'Light the candles']"
            ]
          },
          "metadata": {
            "tags": []
          },
          "execution_count": 69
        }
      ]
    },
    {
      "cell_type": "code",
      "metadata": {
        "id": "Ea-veQlQ8Hwd",
        "colab_type": "code",
        "colab": {
          "base_uri": "https://localhost:8080/",
          "height": 69
        },
        "outputId": "62743e7f-d071-472d-d82e-74e2280682e2"
      },
      "source": [
        "find_similar_command(\"draw a design\", known_commands)"
      ],
      "execution_count": 74,
      "outputs": [
        {
          "output_type": "stream",
          "text": [
            "[0.8641574704910675, 0.9469324270294681, 0.9366446084109368, 1.0578582026062002, 0.9954039667133232, 0.9267725999960715, 0.9226085507618513, 0.9366271201618783, 0.9351094851343895]\n",
            "3\n"
          ],
          "name": "stdout"
        },
        {
          "output_type": "execute_result",
          "data": {
            "text/plain": [
              "'Draw a basic face design on the outside of one orange'"
            ]
          },
          "metadata": {
            "tags": []
          },
          "execution_count": 74
        }
      ]
    },
    {
      "cell_type": "markdown",
      "metadata": {
        "id": "nRXS47DJ8IiS",
        "colab_type": "text"
      },
      "source": [
        "##Description"
      ]
    },
    {
      "cell_type": "code",
      "metadata": {
        "id": "12ixDT42FV-q",
        "colab_type": "code",
        "colab": {}
      },
      "source": [
        "def identifyObjects(text):\n",
        "  tags = nltk.pos_tag(tokenize(text))\n",
        "  objects = []\n",
        "  for t in tags:\n",
        "    if t[1]==\"NN\":\n",
        "      objects.append(t[0])\n",
        "  return objects\n",
        "\n",
        "def tokenize(text):\n",
        "    tokens = []\n",
        "    words = text.split(' ')\n",
        "    for word in words:\n",
        "        if len(word) == 0:\n",
        "            continue\n",
        "        w = []\n",
        "        for c in word:\n",
        "            if c in string.punctuation:\n",
        "                if len(w) != 0:\n",
        "                    tokens.append(''.join(w))\n",
        "                    w = []\n",
        "                tokens.append(c)\n",
        "            else:\n",
        "                if c not in string.whitespace:\n",
        "                    w.append(c)\n",
        "        if len(w) != 0:\n",
        "            tokens.append(''.join(w))\n",
        "    return tokens\n"
      ],
      "execution_count": 0,
      "outputs": []
    },
    {
      "cell_type": "code",
      "metadata": {
        "id": "8XQo_dWx8KSt",
        "colab_type": "code",
        "colab": {}
      },
      "source": [
        "def get_description(title):\n",
        "  DATA = \"\"\n",
        "  tit=\"\"\n",
        "  if title.split()[0].lower()==\"how\" and title.split()[1].lower()==\"to\":\n",
        "    tit += \"You want \"\n",
        "    tit += \" \".join(title.split()[1:])\n",
        "  # else:\n",
        "\n",
        "  DATA += (tit + '\\n')\n",
        "  \n",
        "\n",
        "  objects = identifyObjects(title)\n",
        "  # print(objects)\n",
        "  if len(objects)==1:\n",
        "    s = \"You have a \" + objects[0] + \"\\n\"\n",
        "    DATA += s\n",
        "  elif len(objects)>1:\n",
        "    ob += ', '.join(objects)\n",
        "    s = \"You have \" + ob + '\\n'\n",
        "    DATA += s\n",
        "  \n",
        "  print(DATA)\n"
      ],
      "execution_count": 0,
      "outputs": []
    },
    {
      "cell_type": "code",
      "metadata": {
        "id": "BvF5iyDYFLId",
        "colab_type": "code",
        "colab": {
          "base_uri": "https://localhost:8080/",
          "height": 86
        },
        "outputId": "3f8f3e8b-fca6-4f70-de89-9394d3a7bf99"
      },
      "source": [
        "get_description(\"How to Make a Jack O'Lantern from an Orange\")"
      ],
      "execution_count": 95,
      "outputs": [
        {
          "output_type": "stream",
          "text": [
            "['Orange']\n",
            "You want to Make a Jack O'Lantern from an Orange\n",
            "You have a Orange\n",
            "\n"
          ],
          "name": "stdout"
        }
      ]
    },
    {
      "cell_type": "code",
      "metadata": {
        "id": "0tpYPAG2FU89",
        "colab_type": "code",
        "colab": {
          "base_uri": "https://localhost:8080/",
          "height": 208
        },
        "outputId": "1b142f5d-42eb-4bd2-ca28-41a1b9199fb5"
      },
      "source": [
        "nltk.pos_tag(tokenize(\"How to Make a Jack O'Lantern from an Orange\"))"
      ],
      "execution_count": 94,
      "outputs": [
        {
          "output_type": "execute_result",
          "data": {
            "text/plain": [
              "[('How', 'WRB'),\n",
              " ('to', 'TO'),\n",
              " ('Make', 'VB'),\n",
              " ('a', 'DT'),\n",
              " ('Jack', 'NNP'),\n",
              " ('O', 'NNP'),\n",
              " (\"'\", 'POS'),\n",
              " ('Lantern', 'NNP'),\n",
              " ('from', 'IN'),\n",
              " ('an', 'DT'),\n",
              " ('Orange', 'NN')]"
            ]
          },
          "metadata": {
            "tags": []
          },
          "execution_count": 94
        }
      ]
    },
    {
      "cell_type": "code",
      "metadata": {
        "id": "07brDDBQF8xh",
        "colab_type": "code",
        "colab": {}
      },
      "source": [
        ""
      ],
      "execution_count": 0,
      "outputs": []
    }
  ]
}