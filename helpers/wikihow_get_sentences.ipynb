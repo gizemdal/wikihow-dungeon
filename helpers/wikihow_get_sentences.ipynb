{
  "nbformat": 4,
  "nbformat_minor": 0,
  "metadata": {
    "colab": {
      "name": "wikihow-get-sentences.ipynb",
      "provenance": [],
      "collapsed_sections": [],
      "toc_visible": true
    },
    "kernelspec": {
      "name": "python3",
      "display_name": "Python 3"
    }
  },
  "cells": [
    {
      "cell_type": "markdown",
      "metadata": {
        "id": "6Y5E-WLtuBBx",
        "colab_type": "text"
      },
      "source": [
        "# Loading the scraped data CSV"
      ]
    },
    {
      "cell_type": "markdown",
      "metadata": {
        "id": "zANPD9GduO9z",
        "colab_type": "text"
      },
      "source": [
        "This GitHub repo contains a CSV file of already scraped WikiHow articles. There are 3 columns in the file: headline, title and text. The headline contains the summary text for each ste separated by commas. The text contains the detail text for each step separated by commas.\n"
      ]
    },
    {
      "cell_type": "code",
      "metadata": {
        "id": "INKWRf7Kw0eh",
        "colab_type": "code",
        "colab": {}
      },
      "source": [
        "# Create a dictionary of article_title -> headline_list\n",
        "\n",
        "articles = {}\n",
        "\n",
        "# Create a dictionary of (article_title, headline) -> description\n",
        "\n",
        "descriptions = {}"
      ],
      "execution_count": 0,
      "outputs": []
    },
    {
      "cell_type": "code",
      "metadata": {
        "id": "uZCG8Iorz37h",
        "colab_type": "code",
        "colab": {}
      },
      "source": [
        "# Function to parse a string of headlines separated by commas and return a list of headlines\n",
        "def get_headlines(str):\n",
        "  list_of_headlines = str.split(',\\n')\n",
        "  return list_of_headlines"
      ],
      "execution_count": 0,
      "outputs": []
    },
    {
      "cell_type": "code",
      "metadata": {
        "id": "JZY0GEsPtujK",
        "colab_type": "code",
        "colab": {
          "base_uri": "https://localhost:8080/",
          "height": 55
        },
        "outputId": "7f31b89f-27f1-4379-bb63-27783b718696"
      },
      "source": [
        "# Import the CSV file here\n",
        "import csv\n",
        "\n",
        "wikihow_data = 0 # to be filled later\n",
        "\n",
        "with open('wikihowAll.csv', newline='') as csvfile:\n",
        "  global wikihow_data\n",
        "  # set global wikihow_data to contain the data\n",
        "  wikihow_data = csv.reader(csvfile, delimiter=',')\n",
        "  column_titles = True # skip the first row\n",
        "  idx = 0\n",
        "  for row in wikihow_data:\n",
        "    if column_titles:\n",
        "      column_titles = False\n",
        "      continue\n",
        "    # get the headlines, title and text\n",
        "    headlines = row[0]\n",
        "    title = row[1]\n",
        "    text = row[2]\n",
        "    list_of_headlines = get_headlines(headlines)\n",
        "    articles[title] = list_of_headlines"
      ],
      "execution_count": 39,
      "outputs": [
        {
          "output_type": "stream",
          "text": [
            "{'How to Be an Organized Artist1': ['\\nKeep related supplies in the same area.', 'Make an effort to clean a dedicated workspace after every session.', 'Place loose supplies in large, clearly visible containers.', 'Use clotheslines and clips to hang sketches, photos, and reference material.', 'Use every inch of the room for storage, especially vertical space.', 'Use chalkboard paint to make space for drafting ideas right on the walls.', 'Purchase a label maker to make your organization strategy semi-permanent.', 'Make a habit of throwing out old, excess, or useless stuff each month.'], 'How to Create a Neopoprealist Art Work': ['\\nCreate a sketch in the NeoPopRealist manner of the future mural on a small piece of paper 8\"x10\" using the black ink pen.', 'Prepare to create your NeoPopRealist mural.', 'Prepare your paint.', 'Begin your project with a design.', 'Produce a scaled down version of your finished mural.', 'Prepare the wall to be painted.', 'After you have primed the surface, measure the wall.', 'Paint in the base coat of the background.', 'Allow the background and base coats to dry.', 'Draw the lines, then fill the appeared section with different repetitive patterns (examine the images above).', 'Paint patterns with brushes of suitable size for the particular portion of work you are painting.', 'Clean up the lines and shapes as needed.', 'Seal the mural if needed.', 'Be inspired and it will help you succeed!'], 'How to Be a Visual Effects Artist1': ['\\nGet a bachelor’s degree.', 'Enroll in a studio-based program.', 'Train on a number of VFX computer programs.', 'Watch online tutorials.', 'Nurture your artistic side.', 'Pay close attention to movies, television shows, and video games.', 'Develop a specialization.']}\n"
          ],
          "name": "stdout"
        }
      ]
    }
  ]
}